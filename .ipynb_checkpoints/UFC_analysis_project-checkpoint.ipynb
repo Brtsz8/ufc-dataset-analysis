{
 "cells": [
  {
   "cell_type": "code",
   "execution_count": 103,
   "id": "a1c28044-9472-4786-b294-a20e7335bed5",
   "metadata": {},
   "outputs": [],
   "source": [
    "#datased used: https://www.kaggle.com/datasets/asaniczka/ufc-fighters-statistics"
   ]
  },
  {
   "cell_type": "code",
   "execution_count": 275,
   "id": "a98a6c93-f7d5-4e12-a93c-24d98ef67c42",
   "metadata": {},
   "outputs": [],
   "source": [
    "#import libraries\n",
    "import pandas as pd\n",
    "import matplotlib.pyplot as plt\n",
    "import seaborn as sns"
   ]
  },
  {
   "cell_type": "code",
   "execution_count": 277,
   "id": "14595697-1ee7-4529-84b1-0ef9ddb40651",
   "metadata": {},
   "outputs": [],
   "source": [
    "#import darafream\n",
    "df = pd.read_csv(\"ufc-fighters-statistics.csv\")"
   ]
  },
  {
   "cell_type": "code",
   "execution_count": 279,
   "id": "d4ce9981-b9aa-4149-9216-696aba779a07",
   "metadata": {},
   "outputs": [],
   "source": [
    "#dataset info"
   ]
  },
  {
   "cell_type": "code",
   "execution_count": 281,
   "id": "efa18d5f-c75f-4712-8c3c-2935a0a1914c",
   "metadata": {},
   "outputs": [
    {
     "data": {
      "text/html": [
       "<div>\n",
       "<style scoped>\n",
       "    .dataframe tbody tr th:only-of-type {\n",
       "        vertical-align: middle;\n",
       "    }\n",
       "\n",
       "    .dataframe tbody tr th {\n",
       "        vertical-align: top;\n",
       "    }\n",
       "\n",
       "    .dataframe thead th {\n",
       "        text-align: right;\n",
       "    }\n",
       "</style>\n",
       "<table border=\"1\" class=\"dataframe\">\n",
       "  <thead>\n",
       "    <tr style=\"text-align: right;\">\n",
       "      <th></th>\n",
       "      <th>name</th>\n",
       "      <th>nickname</th>\n",
       "      <th>wins</th>\n",
       "      <th>losses</th>\n",
       "      <th>draws</th>\n",
       "      <th>height_cm</th>\n",
       "      <th>weight_in_kg</th>\n",
       "      <th>reach_in_cm</th>\n",
       "      <th>stance</th>\n",
       "      <th>date_of_birth</th>\n",
       "      <th>significant_strikes_landed_per_minute</th>\n",
       "      <th>significant_striking_accuracy</th>\n",
       "      <th>significant_strikes_absorbed_per_minute</th>\n",
       "      <th>significant_strike_defence</th>\n",
       "      <th>average_takedowns_landed_per_15_minutes</th>\n",
       "      <th>takedown_accuracy</th>\n",
       "      <th>takedown_defense</th>\n",
       "      <th>average_submissions_attempted_per_15_minutes</th>\n",
       "    </tr>\n",
       "  </thead>\n",
       "  <tbody>\n",
       "    <tr>\n",
       "      <th>0</th>\n",
       "      <td>Robert Drysdale</td>\n",
       "      <td>NaN</td>\n",
       "      <td>7</td>\n",
       "      <td>0</td>\n",
       "      <td>0</td>\n",
       "      <td>190.50</td>\n",
       "      <td>92.99</td>\n",
       "      <td>NaN</td>\n",
       "      <td>Orthodox</td>\n",
       "      <td>1981-10-05</td>\n",
       "      <td>0.00</td>\n",
       "      <td>0.0</td>\n",
       "      <td>0.00</td>\n",
       "      <td>0.0</td>\n",
       "      <td>7.32</td>\n",
       "      <td>100.0</td>\n",
       "      <td>0.0</td>\n",
       "      <td>21.9</td>\n",
       "    </tr>\n",
       "    <tr>\n",
       "      <th>1</th>\n",
       "      <td>Daniel McWilliams</td>\n",
       "      <td>The Animal</td>\n",
       "      <td>15</td>\n",
       "      <td>37</td>\n",
       "      <td>0</td>\n",
       "      <td>185.42</td>\n",
       "      <td>83.91</td>\n",
       "      <td>NaN</td>\n",
       "      <td>NaN</td>\n",
       "      <td>NaN</td>\n",
       "      <td>3.36</td>\n",
       "      <td>77.0</td>\n",
       "      <td>0.00</td>\n",
       "      <td>0.0</td>\n",
       "      <td>0.00</td>\n",
       "      <td>0.0</td>\n",
       "      <td>100.0</td>\n",
       "      <td>21.6</td>\n",
       "    </tr>\n",
       "    <tr>\n",
       "      <th>2</th>\n",
       "      <td>Dan Molina</td>\n",
       "      <td>NaN</td>\n",
       "      <td>13</td>\n",
       "      <td>9</td>\n",
       "      <td>0</td>\n",
       "      <td>177.80</td>\n",
       "      <td>97.98</td>\n",
       "      <td>NaN</td>\n",
       "      <td>NaN</td>\n",
       "      <td>NaN</td>\n",
       "      <td>0.00</td>\n",
       "      <td>0.0</td>\n",
       "      <td>5.58</td>\n",
       "      <td>60.0</td>\n",
       "      <td>0.00</td>\n",
       "      <td>0.0</td>\n",
       "      <td>0.0</td>\n",
       "      <td>20.9</td>\n",
       "    </tr>\n",
       "    <tr>\n",
       "      <th>3</th>\n",
       "      <td>Paul Ruiz</td>\n",
       "      <td>NaN</td>\n",
       "      <td>7</td>\n",
       "      <td>4</td>\n",
       "      <td>0</td>\n",
       "      <td>167.64</td>\n",
       "      <td>61.23</td>\n",
       "      <td>NaN</td>\n",
       "      <td>NaN</td>\n",
       "      <td>NaN</td>\n",
       "      <td>1.40</td>\n",
       "      <td>33.0</td>\n",
       "      <td>1.40</td>\n",
       "      <td>75.0</td>\n",
       "      <td>0.00</td>\n",
       "      <td>0.0</td>\n",
       "      <td>100.0</td>\n",
       "      <td>20.9</td>\n",
       "    </tr>\n",
       "    <tr>\n",
       "      <th>4</th>\n",
       "      <td>Collin Huckbody</td>\n",
       "      <td>All In</td>\n",
       "      <td>8</td>\n",
       "      <td>2</td>\n",
       "      <td>0</td>\n",
       "      <td>190.50</td>\n",
       "      <td>83.91</td>\n",
       "      <td>193.04</td>\n",
       "      <td>Orthodox</td>\n",
       "      <td>1994-09-29</td>\n",
       "      <td>2.05</td>\n",
       "      <td>60.0</td>\n",
       "      <td>2.73</td>\n",
       "      <td>42.0</td>\n",
       "      <td>10.23</td>\n",
       "      <td>100.0</td>\n",
       "      <td>0.0</td>\n",
       "      <td>20.4</td>\n",
       "    </tr>\n",
       "    <tr>\n",
       "      <th>5</th>\n",
       "      <td>Gerald Strebendt</td>\n",
       "      <td>The Finishing Machine</td>\n",
       "      <td>9</td>\n",
       "      <td>7</td>\n",
       "      <td>0</td>\n",
       "      <td>175.26</td>\n",
       "      <td>70.31</td>\n",
       "      <td>NaN</td>\n",
       "      <td>Orthodox</td>\n",
       "      <td>1979-03-01</td>\n",
       "      <td>0.00</td>\n",
       "      <td>0.0</td>\n",
       "      <td>4.00</td>\n",
       "      <td>38.0</td>\n",
       "      <td>0.00</td>\n",
       "      <td>0.0</td>\n",
       "      <td>0.0</td>\n",
       "      <td>16.4</td>\n",
       "    </tr>\n",
       "    <tr>\n",
       "      <th>6</th>\n",
       "      <td>Isaiah Hill</td>\n",
       "      <td>NaN</td>\n",
       "      <td>5</td>\n",
       "      <td>7</td>\n",
       "      <td>1</td>\n",
       "      <td>177.80</td>\n",
       "      <td>70.31</td>\n",
       "      <td>NaN</td>\n",
       "      <td>NaN</td>\n",
       "      <td>NaN</td>\n",
       "      <td>4.84</td>\n",
       "      <td>50.0</td>\n",
       "      <td>0.97</td>\n",
       "      <td>80.0</td>\n",
       "      <td>0.00</td>\n",
       "      <td>0.0</td>\n",
       "      <td>66.0</td>\n",
       "      <td>14.5</td>\n",
       "    </tr>\n",
       "    <tr>\n",
       "      <th>7</th>\n",
       "      <td>Kenneth Seegrist</td>\n",
       "      <td>NaN</td>\n",
       "      <td>4</td>\n",
       "      <td>7</td>\n",
       "      <td>0</td>\n",
       "      <td>182.88</td>\n",
       "      <td>83.91</td>\n",
       "      <td>NaN</td>\n",
       "      <td>Orthodox</td>\n",
       "      <td>NaN</td>\n",
       "      <td>3.21</td>\n",
       "      <td>66.0</td>\n",
       "      <td>1.28</td>\n",
       "      <td>0.0</td>\n",
       "      <td>0.00</td>\n",
       "      <td>0.0</td>\n",
       "      <td>40.0</td>\n",
       "      <td>14.4</td>\n",
       "    </tr>\n",
       "    <tr>\n",
       "      <th>8</th>\n",
       "      <td>Will Kerr</td>\n",
       "      <td>NaN</td>\n",
       "      <td>9</td>\n",
       "      <td>3</td>\n",
       "      <td>0</td>\n",
       "      <td>177.80</td>\n",
       "      <td>70.31</td>\n",
       "      <td>175.26</td>\n",
       "      <td>Orthodox</td>\n",
       "      <td>1982-10-21</td>\n",
       "      <td>1.91</td>\n",
       "      <td>42.0</td>\n",
       "      <td>6.22</td>\n",
       "      <td>33.0</td>\n",
       "      <td>0.00</td>\n",
       "      <td>0.0</td>\n",
       "      <td>0.0</td>\n",
       "      <td>14.3</td>\n",
       "    </tr>\n",
       "    <tr>\n",
       "      <th>9</th>\n",
       "      <td>Neil Grove</td>\n",
       "      <td>Goliath</td>\n",
       "      <td>12</td>\n",
       "      <td>8</td>\n",
       "      <td>1</td>\n",
       "      <td>198.12</td>\n",
       "      <td>120.20</td>\n",
       "      <td>NaN</td>\n",
       "      <td>Orthodox</td>\n",
       "      <td>1971-01-18</td>\n",
       "      <td>0.00</td>\n",
       "      <td>0.0</td>\n",
       "      <td>0.00</td>\n",
       "      <td>0.0</td>\n",
       "      <td>0.00</td>\n",
       "      <td>0.0</td>\n",
       "      <td>100.0</td>\n",
       "      <td>14.3</td>\n",
       "    </tr>\n",
       "  </tbody>\n",
       "</table>\n",
       "</div>"
      ],
      "text/plain": [
       "                name               nickname  wins  losses  draws  height_cm  \\\n",
       "0    Robert Drysdale                    NaN     7       0      0     190.50   \n",
       "1  Daniel McWilliams             The Animal    15      37      0     185.42   \n",
       "2         Dan Molina                    NaN    13       9      0     177.80   \n",
       "3          Paul Ruiz                    NaN     7       4      0     167.64   \n",
       "4    Collin Huckbody                 All In     8       2      0     190.50   \n",
       "5   Gerald Strebendt  The Finishing Machine     9       7      0     175.26   \n",
       "6        Isaiah Hill                    NaN     5       7      1     177.80   \n",
       "7   Kenneth Seegrist                    NaN     4       7      0     182.88   \n",
       "8          Will Kerr                    NaN     9       3      0     177.80   \n",
       "9         Neil Grove                Goliath    12       8      1     198.12   \n",
       "\n",
       "   weight_in_kg  reach_in_cm    stance date_of_birth  \\\n",
       "0         92.99          NaN  Orthodox    1981-10-05   \n",
       "1         83.91          NaN       NaN           NaN   \n",
       "2         97.98          NaN       NaN           NaN   \n",
       "3         61.23          NaN       NaN           NaN   \n",
       "4         83.91       193.04  Orthodox    1994-09-29   \n",
       "5         70.31          NaN  Orthodox    1979-03-01   \n",
       "6         70.31          NaN       NaN           NaN   \n",
       "7         83.91          NaN  Orthodox           NaN   \n",
       "8         70.31       175.26  Orthodox    1982-10-21   \n",
       "9        120.20          NaN  Orthodox    1971-01-18   \n",
       "\n",
       "   significant_strikes_landed_per_minute  significant_striking_accuracy  \\\n",
       "0                                   0.00                            0.0   \n",
       "1                                   3.36                           77.0   \n",
       "2                                   0.00                            0.0   \n",
       "3                                   1.40                           33.0   \n",
       "4                                   2.05                           60.0   \n",
       "5                                   0.00                            0.0   \n",
       "6                                   4.84                           50.0   \n",
       "7                                   3.21                           66.0   \n",
       "8                                   1.91                           42.0   \n",
       "9                                   0.00                            0.0   \n",
       "\n",
       "   significant_strikes_absorbed_per_minute  significant_strike_defence  \\\n",
       "0                                     0.00                         0.0   \n",
       "1                                     0.00                         0.0   \n",
       "2                                     5.58                        60.0   \n",
       "3                                     1.40                        75.0   \n",
       "4                                     2.73                        42.0   \n",
       "5                                     4.00                        38.0   \n",
       "6                                     0.97                        80.0   \n",
       "7                                     1.28                         0.0   \n",
       "8                                     6.22                        33.0   \n",
       "9                                     0.00                         0.0   \n",
       "\n",
       "   average_takedowns_landed_per_15_minutes  takedown_accuracy  \\\n",
       "0                                     7.32              100.0   \n",
       "1                                     0.00                0.0   \n",
       "2                                     0.00                0.0   \n",
       "3                                     0.00                0.0   \n",
       "4                                    10.23              100.0   \n",
       "5                                     0.00                0.0   \n",
       "6                                     0.00                0.0   \n",
       "7                                     0.00                0.0   \n",
       "8                                     0.00                0.0   \n",
       "9                                     0.00                0.0   \n",
       "\n",
       "   takedown_defense  average_submissions_attempted_per_15_minutes  \n",
       "0               0.0                                          21.9  \n",
       "1             100.0                                          21.6  \n",
       "2               0.0                                          20.9  \n",
       "3             100.0                                          20.9  \n",
       "4               0.0                                          20.4  \n",
       "5               0.0                                          16.4  \n",
       "6              66.0                                          14.5  \n",
       "7              40.0                                          14.4  \n",
       "8               0.0                                          14.3  \n",
       "9             100.0                                          14.3  "
      ]
     },
     "execution_count": 281,
     "metadata": {},
     "output_type": "execute_result"
    }
   ],
   "source": [
    "df.head(10)"
   ]
  },
  {
   "cell_type": "code",
   "execution_count": 283,
   "id": "12b55832-2119-4808-9ce6-ab0ea68c929c",
   "metadata": {},
   "outputs": [
    {
     "data": {
      "text/plain": [
       "(4111, 18)"
      ]
     },
     "execution_count": 283,
     "metadata": {},
     "output_type": "execute_result"
    }
   ],
   "source": [
    "df.shape"
   ]
  },
  {
   "cell_type": "code",
   "execution_count": 285,
   "id": "845c1938-66e6-4b5d-a1ee-c1cb1e998fda",
   "metadata": {},
   "outputs": [
    {
     "data": {
      "text/plain": [
       "name                                             object\n",
       "nickname                                         object\n",
       "wins                                              int64\n",
       "losses                                            int64\n",
       "draws                                             int64\n",
       "height_cm                                       float64\n",
       "weight_in_kg                                    float64\n",
       "reach_in_cm                                     float64\n",
       "stance                                           object\n",
       "date_of_birth                                    object\n",
       "significant_strikes_landed_per_minute           float64\n",
       "significant_striking_accuracy                   float64\n",
       "significant_strikes_absorbed_per_minute         float64\n",
       "significant_strike_defence                      float64\n",
       "average_takedowns_landed_per_15_minutes         float64\n",
       "takedown_accuracy                               float64\n",
       "takedown_defense                                float64\n",
       "average_submissions_attempted_per_15_minutes    float64\n",
       "dtype: object"
      ]
     },
     "execution_count": 285,
     "metadata": {},
     "output_type": "execute_result"
    }
   ],
   "source": [
    "#data types in dataset\n",
    "df.dtypes"
   ]
  },
  {
   "cell_type": "code",
   "execution_count": 287,
   "id": "c6209f5a-afff-42be-ad73-a0bcd36ea228",
   "metadata": {},
   "outputs": [
    {
     "name": "stdout",
     "output_type": "stream",
     "text": [
      "        nickname  height_cm  weight_in_kg  reach_in_cm    stance date_of_birth\n",
      "0            NaN     190.50         92.99          NaN  Orthodox    1981-10-05\n",
      "1     The Animal     185.42         83.91          NaN       NaN           NaN\n",
      "2            NaN     177.80         97.98          NaN       NaN           NaN\n",
      "3            NaN     167.64         61.23          NaN       NaN           NaN\n",
      "4         All In     190.50         83.91       193.04  Orthodox    1994-09-29\n",
      "...          ...        ...           ...          ...       ...           ...\n",
      "4106         NaN     175.26        106.59          NaN  Orthodox           NaN\n",
      "4107         NaN     172.72         70.31          NaN  Orthodox    1967-03-22\n",
      "4108         NaN     180.34         77.11          NaN  Orthodox           NaN\n",
      "4109       Money     190.50         83.91       210.82  Southpaw    1996-10-14\n",
      "4110        PITA     162.56         52.16       162.56  Southpaw    1988-06-27\n",
      "\n",
      "[4111 rows x 6 columns]\n"
     ]
    }
   ],
   "source": [
    "#check which columns have missing values \n",
    "print(df.loc[:,df.isnull().sum(axis=0)>=1])"
   ]
  },
  {
   "cell_type": "code",
   "execution_count": 289,
   "id": "f4925473-fa84-48f5-a456-7460dc8051b7",
   "metadata": {},
   "outputs": [],
   "source": [
    "nan_counts = df.isna().sum() "
   ]
  },
  {
   "cell_type": "code",
   "execution_count": 291,
   "id": "3316da43-f12d-425d-8c33-935cae4da4cc",
   "metadata": {},
   "outputs": [
    {
     "name": "stdout",
     "output_type": "stream",
     "text": [
      "                                                                                    Column  \\\n",
      "name                                                                                  name   \n",
      "nickname                                                                          nickname   \n",
      "wins                                                                                  wins   \n",
      "losses                                                                              losses   \n",
      "draws                                                                                draws   \n",
      "height_cm                                                                        height_cm   \n",
      "weight_in_kg                                                                  weight_in_kg   \n",
      "reach_in_cm                                                                    reach_in_cm   \n",
      "stance                                                                              stance   \n",
      "date_of_birth                                                                date_of_birth   \n",
      "significant_strikes_landed_per_minute                significant_strikes_landed_per_minute   \n",
      "significant_striking_accuracy                                significant_striking_accuracy   \n",
      "significant_strikes_absorbed_per_minute            significant_strikes_absorbed_per_minute   \n",
      "significant_strike_defence                                      significant_strike_defence   \n",
      "average_takedowns_landed_per_15_minutes            average_takedowns_landed_per_15_minutes   \n",
      "takedown_accuracy                                                        takedown_accuracy   \n",
      "takedown_defense                                                          takedown_defense   \n",
      "average_submissions_attempted_per_15_minutes  average_submissions_attempted_per_15_minutes   \n",
      "\n",
      "                                              NaN Count  NaN Percentage  \n",
      "name                                                  0        0.000000  \n",
      "nickname                                           1854       45.098516  \n",
      "wins                                                  0        0.000000  \n",
      "losses                                                0        0.000000  \n",
      "draws                                                 0        0.000000  \n",
      "height_cm                                           298        7.248845  \n",
      "weight_in_kg                                         87        2.116273  \n",
      "reach_in_cm                                        1927       46.874240  \n",
      "stance                                              823       20.019460  \n",
      "date_of_birth                                      1135       27.608854  \n",
      "significant_strikes_landed_per_minute                 0        0.000000  \n",
      "significant_striking_accuracy                         0        0.000000  \n",
      "significant_strikes_absorbed_per_minute               0        0.000000  \n",
      "significant_strike_defence                            0        0.000000  \n",
      "average_takedowns_landed_per_15_minutes               0        0.000000  \n",
      "takedown_accuracy                                     0        0.000000  \n",
      "takedown_defense                                      0        0.000000  \n",
      "average_submissions_attempted_per_15_minutes          0        0.000000  \n"
     ]
    }
   ],
   "source": [
    "total_cells = df.shape[0]  # Total number of cells in a column\n",
    "nan_percentage = (nan_counts / total_cells) * 100\n",
    "nan_df = pd.DataFrame({'Column' : df.columns,  'NaN Count': nan_counts, 'NaN Percentage': nan_percentage})\n",
    "print(nan_df)"
   ]
  },
  {
   "cell_type": "code",
   "execution_count": 293,
   "id": "d7b6a755-de8c-44c9-8bf6-c319c44bd700",
   "metadata": {},
   "outputs": [
    {
     "name": "stdout",
     "output_type": "stream",
     "text": [
      "                      Column  NaN Count  NaN Percentage\n",
      "nickname            nickname       1854       45.098516\n",
      "height_cm          height_cm        298        7.248845\n",
      "weight_in_kg    weight_in_kg         87        2.116273\n",
      "reach_in_cm      reach_in_cm       1927       46.874240\n",
      "stance                stance        823       20.019460\n",
      "date_of_birth  date_of_birth       1135       27.608854\n"
     ]
    }
   ],
   "source": [
    "filtered_nan_df=nan_df[nan_df['NaN Count'] > 0]\n",
    "print(filtered_nan_df)"
   ]
  },
  {
   "cell_type": "code",
   "execution_count": 335,
   "id": "a4008c05-432a-4b37-aad9-6d9d9023330f",
   "metadata": {},
   "outputs": [
    {
     "data": {
      "image/png": "[encoded data removed]",
      "text/plain": [
       "<Figure size 640x480 with 1 Axes>"
      ]
     },
     "metadata": {},
     "output_type": "display_data"
    },
    {
     "data": {
      "image/png": "[encoded data removed]",
      "text/plain": [
       "<Figure size 640x480 with 1 Axes>"
      ]
     },
     "metadata": {},
     "output_type": "display_data"
    }
   ],
   "source": [
    "sns.barplot(data = filtered_nan_df ,x='Column', hue='Column', legend= False , y='NaN Count' , palette=\"rocket\")\n",
    "plt.show()\n",
    "sns.barplot(data = filtered_nan_df ,x='Column', hue='Column', legend= False , y='NaN Percentage' , palette=\"rocket\")\n",
    "plt.show()"
   ]
  },
  {
   "cell_type": "code",
   "execution_count": 255,
   "id": "cd305171-450a-4627-bc2a-89a577454bb3",
   "metadata": {},
   "outputs": [
    {
     "data": {
      "text/plain": [
       "<Axes: xlabel='weight_in_kg', ylabel='height_cm'>"
      ]
     },
     "execution_count": 255,
     "metadata": {},
     "output_type": "execute_result"
    },
    {
     "data": {
      "image/png": "[encoded data removed]",
      "text/plain": [
       "<Figure size 640x480 with 1 Axes>"
      ]
     },
     "metadata": {},
     "output_type": "display_data"
    }
   ],
   "source": [
    "sns.scatterplot(x='weight_in_kg', y='height_cm' , huedata=df)"
   ]
  },
  {
   "cell_type": "code",
   "execution_count": null,
   "id": "8f118774-f10b-4ca7-8c14-757056b66079",
   "metadata": {},
   "outputs": [],
   "source": []
  }
 ],
 "metadata": {
  "kernelspec": {
   "display_name": "Python 3 (ipykernel)",
   "language": "python",
   "name": "python3"
  },
  "language_info": {
   "codemirror_mode": {
    "name": "ipython",
    "version": 3
   },
   "file_extension": ".py",
   "mimetype": "text/x-python",
   "name": "python",
   "nbconvert_exporter": "python",
   "pygments_lexer": "ipython3",
   "version": "3.12.7"
  }
 },
 "nbformat": 4,
 "nbformat_minor": 5
}
